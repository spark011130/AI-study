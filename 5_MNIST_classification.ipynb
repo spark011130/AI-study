{
 "cells": [
  {
   "cell_type": "markdown",
   "metadata": {},
   "source": [
    "# Mnist Classification"
   ]
  },
  {
   "cell_type": "markdown",
   "metadata": {},
   "source": [
    "Using the Deep Neural Network, I am going to figure out how to classify the mnist input data into the number."
   ]
  },
  {
   "cell_type": "markdown",
   "metadata": {},
   "source": [
    "### Dataset"
   ]
  },
  {
   "cell_type": "markdown",
   "metadata": {},
   "source": [
    "The MNIST (Mixed National Institute of Standards and Technology) dataset is a dataset containing handwritten digit images, and is widely used to evaluate the performance of machine learning algorithms. The MNIST dataset consists of 70,000 samples of 28x28 pixel black and white images, each representing a digit from 0 to 9."
   ]
  },
  {
   "cell_type": "markdown",
   "metadata": {},
   "source": [
    "When you check the link: http://yann.lecun.com/exdb/mnist/\n",
    "You can find that the datasets are no where, so the dataset is downloaded throught kaggle: https://www.kaggle.com/datasets/hojjatk/mnist-dataset"
   ]
  },
  {
   "cell_type": "markdown",
   "metadata": {},
   "source": [
    "I tried different modules to import the data without decoding it, but as the links have an 404 error, I imported the datasets by my own. You don't need to understand the read_idx1_ubyte and read_idx3_ubyte for I simply got it from the internet."
   ]
  },
  {
   "cell_type": "code",
   "execution_count": 59,
   "metadata": {},
   "outputs": [
    {
     "name": "stdout",
     "output_type": "stream",
     "text": [
      "(60000, 28, 28) (60000,)\n",
      "(10000, 28, 28) (10000,)\n",
      "(60000, 784) (60000, 10)\n",
      "(10000, 784) (10000, 10)\n"
     ]
    }
   ],
   "source": [
    "import numpy as np\n",
    "import struct\n",
    "\n",
    "def read_idx1_ubyte(file_name):\n",
    "    with open(file_name, 'rb') as f:\n",
    "        # Read the magic number (0x00000801)\n",
    "        magic_number = struct.unpack('>I', f.read(4))[0]\n",
    "        if magic_number != 2049:\n",
    "            raise ValueError(\"Invalid IDX file format\")\n",
    "        \n",
    "        # Read the number of labels\n",
    "        num_labels = struct.unpack('>I', f.read(4))[0]\n",
    "        \n",
    "        # Read the label data\n",
    "        labels = np.frombuffer(f.read(), dtype=np.uint8)\n",
    "        \n",
    "    return labels\n",
    "def read_idx3_ubyte(file_name):\n",
    "    with open(file_name, 'rb') as f:\n",
    "        # Read the magic number (0x00000801)\n",
    "        magic_number = struct.unpack('>I', f.read(4))[0]\n",
    "        if magic_number != 2051:\n",
    "            raise ValueError(\"Invalid IDX file format\")\n",
    "        \n",
    "        # Read the number of images\n",
    "        num_images = struct.unpack('>I', f.read(4))[0]\n",
    "        \n",
    "        # Read the number of rows and columns (28x28 for MNIST)\n",
    "        num_rows = struct.unpack('>I', f.read(4))[0]\n",
    "        num_columns = struct.unpack('>I', f.read(4))[0]\n",
    "        \n",
    "        # Read the image data\n",
    "        images = np.frombuffer(f.read(), dtype=np.uint8)\n",
    "        images = images.reshape(num_images, num_rows, num_columns)\n",
    "        \n",
    "    return images\n",
    "\n",
    "root = \"files/DNN/archive/\"\n",
    "X_train = read_idx3_ubyte(root+'train-images.idx3-ubyte')\n",
    "y_train = read_idx1_ubyte(root+'train-labels.idx1-ubyte')\n",
    "\n",
    "X_test = read_idx3_ubyte(root+'t10k-images.idx3-ubyte')\n",
    "y_test = read_idx1_ubyte(root+'t10k-labels.idx1-ubyte')\n",
    "\n",
    "print(X_train.shape, y_train.shape)\n",
    "print(X_test.shape, y_test.shape)\n",
    "\n",
    "# Dimension reduction to make the input data 1-dimensional\n",
    "X_train = X_train.reshape(60000, -1)\n",
    "X_test = X_test.reshape(10000, -1)\n",
    "y_train_one_hot = np.eye(10)[y_train]  # one-hot encoding\n",
    "y_test_one_hot = np.eye(10)[y_test]  # one-hot encoding\n",
    "print(X_train.shape, y_train_one_hot.shape)\n",
    "print(X_test.shape, y_test_one_hot.shape)"
   ]
  },
  {
   "cell_type": "markdown",
   "metadata": {},
   "source": [
    "### Basic DNN Implementation"
   ]
  },
  {
   "cell_type": "markdown",
   "metadata": {},
   "source": [
    "First, I loaded the DNN defined in step 4 above. Instead, in order to use various activation functions and optimizers, we redefine the DNN class as an abstract class and the corresponding methods as abstract methods. Later, I will define inheritant classes and insert the necessary functions."
   ]
  },
  {
   "cell_type": "code",
   "execution_count": 60,
   "metadata": {},
   "outputs": [],
   "source": [
    "from tqdm import tqdm\n",
    "from abc import ABC, abstractmethod\n",
    "import matplotlib.pyplot as plt\n",
    "import time\n",
    "\n",
    "class DNN(ABC):\n",
    "    def __init__(self, input_size, hidden_layers, output_size, learning_rate=0.01):\n",
    "        self.input_size = input_size\n",
    "        self.hidden_layers = hidden_layers\n",
    "        self.output_size = output_size\n",
    "        self.learning_rate = learning_rate\n",
    "        self.weights = []\n",
    "        self.biases = []\n",
    "        \n",
    "        prev_layer_size = self.input_size\n",
    "        for hidden_layer_size in (self.hidden_layers + [output_size]):\n",
    "            weight = np.random.randn(prev_layer_size, hidden_layer_size) * 0.01\n",
    "            bias = np.zeros((1, hidden_layer_size))\n",
    "            self.weights.append(weight)\n",
    "            self.biases.append(bias)\n",
    "            prev_layer_size = hidden_layer_size\n",
    "            \n",
    "    def forward_propagation(self, X):\n",
    "        self.a = [X]\n",
    "        self.z = []\n",
    "        for i in range(len(self.weights)):\n",
    "            z = np.dot(self.a[i], self.weights[i]) + self.biases[i]\n",
    "            self.z.append(z)\n",
    "            a = self.activation(z)\n",
    "            self.a.append(a)\n",
    "        return self.a[-1]\n",
    "    \n",
    "    def backward_propagation(self, X, y):\n",
    "        self.batch_size = X.shape[0]\n",
    "        y_pred = self.forward_propagation(X)\n",
    "        loss_derivative = self.loss_derivative(y_pred, y)\n",
    "        \n",
    "        dA = loss_derivative * self.activation_derivative(self.a[-1])\n",
    "        dZ = dA\n",
    "        \n",
    "        dW = []\n",
    "        db = []\n",
    "        \n",
    "        dW.append(np.dot(self.a[-2].T, dZ))\n",
    "        db.append(np.sum(dZ, axis=0, keepdims=True))\n",
    "        \n",
    "        dA = np.dot(dZ, self.weights[-1].T)\n",
    "        \n",
    "        for i in range(len(self.weights) - 2, -1, -1):\n",
    "            dZ = dA * self.activation_derivative(self.a[i + 1])\n",
    "            dW.append(np.dot(self.a[i].T, dZ))\n",
    "            db.append(np.sum(dZ, axis=0, keepdims=True))\n",
    "            dA = np.dot(dZ, self.weights[i].T)\n",
    "        \n",
    "        return dW[::-1], db[::-1]\n",
    "    \n",
    "    @abstractmethod\n",
    "    def activation(self, x):\n",
    "        pass\n",
    "    \n",
    "    @abstractmethod\n",
    "    def activation_derivative(self, x):\n",
    "        pass\n",
    "\n",
    "    @abstractmethod\n",
    "    def optimizer(self, dW, db):\n",
    "        pass\n",
    "    \n",
    "    def softmax(self, x):\n",
    "        e_x = np.exp(x - np.max(x, axis=-1, keepdims=True)) # overflow prevention\n",
    "        return e_x / np.sum(e_x, axis=-1, keepdims=True)\n",
    "    \n",
    "    def compute_loss(self, y_pred, y_true):\n",
    "        # Mean Squared Error loss function\n",
    "        return np.mean((y_true - y_pred) ** 2)\n",
    "    \n",
    "    def loss_derivative(self, y_pred, y_true):\n",
    "        return 2 * (y_pred - y_true) / self.batch_size\n",
    "    \n",
    "    def mini_batch_train(self, X_train, y_train, X_test, y_test, batch_size=32, epochs=1000, loss_rate = 1):\n",
    "        m = X_train.shape[0]\n",
    "        self.train_losses = []\n",
    "        self.test_losses = []\n",
    "        self.train_time = []\n",
    "        start_time = time.time()\n",
    "        for epoch in tqdm(range(epochs)):\n",
    "            indices = np.random.permutation(m)\n",
    "            X_shuffled_train = X_train[indices]\n",
    "            y_shuffled_train = y_train[indices]\n",
    "            \n",
    "            for i in range(0, m, batch_size):\n",
    "                X_batch_train = X_shuffled_train[i:i+batch_size]\n",
    "                y_batch_train = y_shuffled_train[i:i+batch_size]\n",
    "                \n",
    "                dW, db = self.backward_propagation(X_batch_train, y_batch_train)\n",
    "                    \n",
    "                self.optimizer(dW, db)  \n",
    "                \n",
    "            if epoch % loss_rate == 0:\n",
    "                # training loss calculation\n",
    "                y_pred = self.forward_propagation(X_train)\n",
    "                loss = self.compute_loss(y_pred, y_train)\n",
    "                self.train_losses.append(loss)\n",
    "                # test loss calculation\n",
    "                y_pred_test = self.forward_propagation(X_test)\n",
    "                loss = self.compute_loss(y_pred_test, y_test)\n",
    "                self.test_losses.append(loss)\n",
    "            self.train_time.append(time.time() - start_time)\n",
    "                \n",
    "        self.plot_losses(self.train_losses, self.test_losses, epochs, loss_rate)\n",
    "        \n",
    "    def predict(self, X):\n",
    "        y_pred = self.forward_propagation(X)\n",
    "        return y_pred\n",
    "        \n",
    "    def plot_losses(self, train_losses, test_losses, epochs, loss_rate):\n",
    "        plt.plot(range(1, epochs+1, loss_rate), train_losses, label=\"Train Loss\")\n",
    "        plt.plot(range(1, epochs+1, loss_rate), test_losses, label=\"Test Loss\")\n",
    "        plt.xlabel(\"Epochs\")\n",
    "        plt.ylabel(\"Loss\")\n",
    "        plt.title(\"Training and Test Loss over Epochs\")\n",
    "        plt.legend()\n",
    "        plt.show()"
   ]
  },
  {
   "cell_type": "markdown",
   "metadata": {},
   "source": [
    "### 1. Sigmoid + Stochastic Gradient Descent"
   ]
  },
  {
   "cell_type": "code",
   "execution_count": 61,
   "metadata": {},
   "outputs": [
    {
     "name": "stderr",
     "output_type": "stream",
     "text": [
      "100%|██████████| 100/100 [03:40<00:00,  2.20s/it]\n"
     ]
    },
    {
     "data": {
      "image/png": "[encoded data removed]",
      "text/plain": [
       "<Figure size 640x480 with 1 Axes>"
      ]
     },
     "metadata": {},
     "output_type": "display_data"
    }
   ],
   "source": [
    "class DNN1(DNN):\n",
    "    def softmax(self, x):\n",
    "        e_x = np.exp(x - np.max(x, axis=-1, keepdims=True)) # overflow prevention\n",
    "        return e_x / np.sum(e_x, axis=-1, keepdims=True)\n",
    "    \n",
    "    def sigmoid(self, x):\n",
    "        x = np.clip(x, -500, 500)  # overflow prevention\n",
    "        return 1 / (1 + np.exp(-x))\n",
    "    \n",
    "    def activation(self, x):\n",
    "        if len(self.weights) == len(self.a):\n",
    "            return self.softmax(x)\n",
    "        else:\n",
    "            return self.sigmoid(x)\n",
    "    \n",
    "    def activation_derivative(self, x):\n",
    "        # Implement the derivative of the activation function (e.g., sigmoid)\n",
    "        return x * (1 - x)\n",
    "    \n",
    "    def optimizer(self, dW, db):\n",
    "        # Implement gradient update (gradient descent)\n",
    "        for i in range(len(self.weights)):\n",
    "            self.weights[i] -= self.learning_rate * dW[i]\n",
    "            self.biases[i] -= self.learning_rate * db[i]\n",
    "\n",
    "model1 = DNN1(784, [64, 32], 10, 0.01)\n",
    "model1.mini_batch_train(X_train, y_train_one_hot, X_test, y_test_one_hot, epochs=100)"
   ]
  },
  {
   "cell_type": "markdown",
   "metadata": {},
   "source": [
    "### User interaction"
   ]
  },
  {
   "cell_type": "markdown",
   "metadata": {},
   "source": [
    "Using the pygame module, by drawing on the canvas and closing it, the model can receive the numeric data from it and can predict its result from our model."
   ]
  },
  {
   "cell_type": "code",
   "execution_count": 65,
   "metadata": {},
   "outputs": [
    {
     "data": {
      "image/png": "[encoded data removed]",
      "text/plain": [
       "<Figure size 640x480 with 1 Axes>"
      ]
     },
     "metadata": {},
     "output_type": "display_data"
    },
    {
     "name": "stdout",
     "output_type": "stream",
     "text": [
      "the predicted number is: 2\n"
     ]
    }
   ],
   "source": [
    "import pygame\n",
    "import matplotlib.pyplot as plt\n",
    "\n",
    "pygame.init()\n",
    "\n",
    "width, height = 280, 280  # 10 times upscaled canvas of 28 x 28\n",
    "screen = pygame.display.set_mode((width, height))\n",
    "pygame.display.set_caption('Draw and Save Image')\n",
    "\n",
    "BLACK = (0, 0, 0)\n",
    "WHITE = (255, 255, 255)\n",
    "\n",
    "drawing = False\n",
    "last_pos = None\n",
    "\n",
    "img = np.zeros((28, 28), dtype=int)\n",
    "\n",
    "running = True\n",
    "screen.fill(WHITE)\n",
    "while running:\n",
    "    for event in pygame.event.get():\n",
    "        if event.type == pygame.QUIT:\n",
    "            running = False\n",
    "        elif event.type == pygame.MOUSEBUTTONDOWN:\n",
    "            drawing = True\n",
    "            last_pos = event.pos\n",
    "        elif event.type == pygame.MOUSEBUTTONUP:\n",
    "            drawing = False\n",
    "            last_pos = None\n",
    "        elif event.type == pygame.MOUSEMOTION and drawing:\n",
    "            current_pos = event.pos\n",
    "            pygame.draw.line(screen, BLACK, last_pos, current_pos, 5)\n",
    "            last_pos = current_pos\n",
    "\n",
    "    pygame.display.update()\n",
    "\n",
    "    for i in range(0, 280, 10):\n",
    "        for j in range(0, 280, 10):\n",
    "            brightness = 0\n",
    "            for k in range(10):\n",
    "                for l in range(10):\n",
    "                    pixel_color = screen.get_at((j+l, i+k))\n",
    "                    brightness += (pixel_color[0] + pixel_color[1] + pixel_color[2]) // 3\n",
    "            img[i//10, j//10] = 255 - brightness // 100\n",
    "pixels = pygame.surfarray.array3d(screen)\n",
    "pygame.quit()\n",
    "\n",
    "# Image plot\n",
    "pixels = np.transpose(pixels, (1, 0, 2))\n",
    "plt.imshow(pixels)\n",
    "plt.axis('off')\n",
    "plt.show()\n",
    "\n",
    "# Image to data\n",
    "img = np.array(img)\n",
    "img_min = np.min(img)\n",
    "img_max = np.max(img)\n",
    "img_normalized = ((img - img_min) / (img_max - img_min)) * 255\n",
    "X = img.reshape(1, -1)\n",
    "\n",
    "# Image prediction\n",
    "print(\"the predicted number is:\", int(np.argmax(model1.predict(X))))"
   ]
  },
  {
   "cell_type": "markdown",
   "metadata": {},
   "source": [
    "### 2. Sigmoid + Adam"
   ]
  },
  {
   "cell_type": "code",
   "execution_count": 66,
   "metadata": {},
   "outputs": [
    {
     "name": "stderr",
     "output_type": "stream",
     "text": [
      "100%|██████████| 100/100 [05:13<00:00,  3.13s/it]\n"
     ]
    },
    {
     "data": {
      "image/png": "[encoded data removed]",
      "text/plain": [
       "<Figure size 640x480 with 1 Axes>"
      ]
     },
     "metadata": {},
     "output_type": "display_data"
    }
   ],
   "source": [
    "class DNN2(DNN):\n",
    "    def softmax(self, x):\n",
    "        e_x = np.exp(x - np.max(x, axis=-1, keepdims=True)) # overflow prevention\n",
    "        return e_x / np.sum(e_x, axis=-1, keepdims=True)\n",
    "    \n",
    "    def sigmoid(self, x):\n",
    "        x = np.clip(x, -500, 500)  # overflow prevention\n",
    "        return 1 / (1 + np.exp(-x))\n",
    "    \n",
    "    def activation(self, x):\n",
    "        if len(self.weights) == len(self.a):\n",
    "            return self.softmax(x)\n",
    "        else:\n",
    "            return self.sigmoid(x)\n",
    "    \n",
    "    def activation_derivative(self, x):\n",
    "        # Implement the derivative of the activation function (e.g., sigmoid)\n",
    "        return x * (1 - x)\n",
    "    \n",
    "    def optimizer(self, dW, db):\n",
    "        # Adam hyperparameters\n",
    "        beta_1 = self.learning_rate*100\n",
    "        beta_2 = 1 - self.learning_rate\n",
    "        epsilon = 1e-8\n",
    "\n",
    "        # Initialize moment estimates if not already initialized\n",
    "        if not hasattr(self, 'm') or not hasattr(self, 'v'):\n",
    "            self.m = [np.zeros_like(w) for w in self.weights]  # 1st moment (mean)\n",
    "            self.v = [np.zeros_like(w) for w in self.weights]  # 2nd moment (variance)\n",
    "            self.t = 0  # timestep\n",
    "\n",
    "        # Update timestep\n",
    "        self.t += 1\n",
    "\n",
    "        # Adam parameter update\n",
    "        for i in range(len(self.weights)):\n",
    "            # Update first moment estimate (m)\n",
    "            self.m[i] = beta_1 * self.m[i] + (1 - beta_1) * dW[i]\n",
    "            self.v[i] = beta_2 * self.v[i] + (1 - beta_2) * (dW[i] ** 2)\n",
    "\n",
    "            # Bias correction\n",
    "            m_hat = self.m[i] / (1 - beta_1 ** self.t)\n",
    "            v_hat = self.v[i] / (1 - beta_2 ** self.t)\n",
    "\n",
    "            # Update weights and biases\n",
    "            self.weights[i] -= self.learning_rate * m_hat / (np.sqrt(v_hat) + epsilon)\n",
    "            self.biases[i] -= self.learning_rate * db[i]  # Biases do not use Adam updates\n",
    "    \n",
    "model2 = DNN2(784, [64, 32], 10, 0.001)\n",
    "model2.mini_batch_train(X_train, y_train_one_hot, X_test, y_test_one_hot, epochs=100)"
   ]
  },
  {
   "cell_type": "markdown",
   "metadata": {},
   "source": [
    "### 3. ReLU + SGD"
   ]
  },
  {
   "cell_type": "code",
   "execution_count": null,
   "metadata": {},
   "outputs": [
    {
     "name": "stderr",
     "output_type": "stream",
     "text": [
      " 94%|█████████▍| 94/100 [02:45<00:10,  1.73s/it]"
     ]
    }
   ],
   "source": [
    "class DNN3(DNN):\n",
    "    def reLU(self, x):\n",
    "        return np.maximum(0, x)\n",
    "    \n",
    "    def activation(self, x):\n",
    "        if len(self.weights) == len(self.a):\n",
    "            return self.softmax(x)\n",
    "        else:\n",
    "            return self.reLU(x)\n",
    "    \n",
    "    def activation_derivative(self, x):\n",
    "        return np.where(x > 0, 1, 0)\n",
    "    \n",
    "    def optimizer(self, dW, db):\n",
    "        # Implement gradient update (gradient descent)\n",
    "        for i in range(len(self.weights)):\n",
    "            self.weights[i] -= self.learning_rate * dW[i]\n",
    "            self.biases[i] -= self.learning_rate * db[i]\n",
    "            \n",
    "model3 = DNN3(784, [64, 32], 10, 0.01)\n",
    "model3.mini_batch_train(X_train, y_train_one_hot, X_test, y_test_one_hot, epochs=100)"
   ]
  },
  {
   "cell_type": "markdown",
   "metadata": {},
   "source": [
    "### 4. ReLU + Adam"
   ]
  },
  {
   "cell_type": "code",
   "execution_count": null,
   "metadata": {},
   "outputs": [],
   "source": [
    "class DNN4(DNN):\n",
    "    def reLU(self, x):\n",
    "        return np.maximum(0, x)\n",
    "    \n",
    "    def activation(self, x):\n",
    "        if len(self.weights) == len(self.a):\n",
    "            return self.softmax(x)\n",
    "        else:\n",
    "            return self.reLU(x)\n",
    "    \n",
    "    def activation_derivative(self, x):\n",
    "        return np.where(x > 0, 1, 0)\n",
    "    \n",
    "    def optimizer(self, dW, db):\n",
    "        # Adam hyperparameters\n",
    "        beta_1 = self.learning_rate*100\n",
    "        beta_2 = 1 - self.learning_rate\n",
    "        epsilon = 1e-8\n",
    "\n",
    "        # Initialize moment estimates if not already initialized\n",
    "        if not hasattr(self, 'm') or not hasattr(self, 'v'):\n",
    "            self.m = [np.zeros_like(w) for w in self.weights]  # 1st moment (mean)\n",
    "            self.v = [np.zeros_like(w) for w in self.weights]  # 2nd moment (variance)\n",
    "            self.t = 0  # timestep\n",
    "\n",
    "        # Update timestep\n",
    "        self.t += 1\n",
    "\n",
    "        # Adam parameter update\n",
    "        for i in range(len(self.weights)):\n",
    "            # Update first moment estimate (m)\n",
    "            self.m[i] = beta_1 * self.m[i] + (1 - beta_1) * dW[i]\n",
    "            self.v[i] = beta_2 * self.v[i] + (1 - beta_2) * (dW[i] ** 2)\n",
    "\n",
    "            # Bias correction\n",
    "            m_hat = self.m[i] / (1 - beta_1 ** self.t)\n",
    "            v_hat = self.v[i] / (1 - beta_2 ** self.t)\n",
    "\n",
    "            # Update weights and biases\n",
    "            self.weights[i] -= self.learning_rate * m_hat / (np.sqrt(v_hat) + epsilon)\n",
    "            self.biases[i] -= self.learning_rate * db[i]  # Biases do not use Adam updates\n",
    "            \n",
    "model4 = DNN4(784, [64, 32], 10, 0.001)\n",
    "model4.mini_batch_train(X_train, y_train_one_hot, X_test, y_test_one_hot, epochs=100)"
   ]
  },
  {
   "cell_type": "markdown",
   "metadata": {},
   "source": [
    "### 5. Results"
   ]
  },
  {
   "cell_type": "markdown",
   "metadata": {},
   "source": [
    "We will compare the elapsed time, loss reduction over time, through graph."
   ]
  },
  {
   "cell_type": "markdown",
   "metadata": {},
   "source": [
    "1. Time Comparison graph"
   ]
  },
  {
   "cell_type": "code",
   "execution_count": null,
   "metadata": {},
   "outputs": [],
   "source": [
    "import numpy as np\n",
    "import matplotlib.pyplot as plt\n",
    "\n",
    "epochs = np.arange(1, 100)\n",
    "fig, axes = plt.subplots(2, 2, figsize=(10, 8))\n",
    "\n",
    "# 1st graph: Sigmoid + SGD\n",
    "axes[0, 0].plot(epochs, model1.train_time, label=\"Adam + ReLU\")\n",
    "axes[1, 1].set_title(\"Sigmoid + SGD\")\n",
    "axes[0, 0].set_xlabel(\"Epochs\")\n",
    "axes[0, 0].set_ylabel(\"Time (seconds)\")\n",
    "\n",
    "# 2nd graph: Sigmoid + Adam\n",
    "axes[0, 1].plot(epochs, model2.train_time, label=\"Adam + Sigmoid\", color=\"orange\")\n",
    "axes[0, 1].set_title(\"Sigmoid + Adam\")\n",
    "axes[0, 1].set_xlabel(\"Epochs\")\n",
    "axes[0, 1].set_ylabel(\"Time (seconds)\")\n",
    "\n",
    "# 3rd graph: ReLU + SGD\n",
    "axes[1, 0].plot(epochs, model3.train_time, label=\"SGD + ReLU\", color=\"green\")\n",
    "axes[1, 0].set_title(\"ReLU + SGD\")\n",
    "axes[1, 0].set_xlabel(\"Epochs\")\n",
    "axes[1, 0].set_ylabel(\"Time (seconds)\")\n",
    "\n",
    "# 4th graph: ReLU + Adam\n",
    "axes[1, 1].plot(epochs, model4.train_time, label=\"SGD + Sigmoid\", color=\"red\")\n",
    "axes[0, 0].set_title(\"ReLU + Adam\")\n",
    "axes[1, 1].set_xlabel(\"Epochs\")\n",
    "axes[1, 1].set_ylabel(\"Time (seconds)\")\n",
    "\n",
    "plt.tight_layout()\n",
    "plt.show()"
   ]
  },
  {
   "cell_type": "markdown",
   "metadata": {},
   "source": [
    "2. Train "
   ]
  }
 ],
 "metadata": {
  "kernelspec": {
   "display_name": "Python 3",
   "language": "python",
   "name": "python3"
  },
  "language_info": {
   "codemirror_mode": {
    "name": "ipython",
    "version": 3
   },
   "file_extension": ".py",
   "mimetype": "text/x-python",
   "name": "python",
   "nbconvert_exporter": "python",
   "pygments_lexer": "ipython3",
   "version": "3.10.5"
  }
 },
 "nbformat": 4,
 "nbformat_minor": 2
}
